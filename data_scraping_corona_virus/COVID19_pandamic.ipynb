{
 "cells": [
  {
   "cell_type": "code",
   "execution_count": 1,
   "metadata": {},
   "outputs": [],
   "source": [
    "from selenium import webdriver\n",
    "from bs4 import BeautifulSoup as bs\n",
    "import pandas as pd"
   ]
  },
  {
   "cell_type": "code",
   "execution_count": 2,
   "metadata": {},
   "outputs": [],
   "source": [
    "options = webdriver.ChromeOptions()\n",
    "options.add_argument(\"headless\")\n",
    "driver = webdriver.Chrome('C:\\python37\\Scripts\\chromedriver', options=options)"
   ]
  },
  {
   "cell_type": "code",
   "execution_count": 3,
   "metadata": {},
   "outputs": [],
   "source": [
    "states=[]\n",
    "cases=[]\n",
    "deaths=[]\n",
    "recoveries=[]\n",
    "active=[]\n",
    "driver.get(\"https://en.wikipedia.org/wiki/COVID-19_pandemic_in_India\")"
   ]
  },
  {
   "cell_type": "code",
   "execution_count": null,
   "metadata": {},
   "outputs": [],
   "source": [
    "content = driver.page_source\n",
    "soup = bs(content)\n",
    "s = soup.find_all('table', class_=\"wikitable plainrowheaders sortable jquery-tablesorter\")[0]\n",
    "States_ = s.find_all('tbody')[0]\n",
    "for i in range(36):\n",
    "    row = States_.find_all('tr')[i]\n",
    "    info = row.text.strip().split(\"\\n\")\n",
    "#     print(info)\n",
    "    states.append(info[0])\n",
    "    cases.append(info[2])\n",
    "    deaths.append(info[4])\n",
    "    recoveries.append(info[6])\n",
    "    active.append(info[8])\n",
    "# print(len(states))\n",
    "# print(len(cases))\n",
    "# print(len(deaths))\n",
    "# print(len(recoveries))\n",
    "# print(len(active))\n",
    "# # print(states)\n",
    "# print(cases)\n",
    "# print(deaths)\n",
    "# print(recoveries)\n",
    "# print(active)"
   ]
  },
  {
   "cell_type": "code",
   "execution_count": null,
   "metadata": {},
   "outputs": [],
   "source": [
    "Cd= pd.DataFrame({'States Affected':states,'Number of Cases':cases,'Death Count':deaths,'Recovery Count':recoveries,'Number of Active Cases':active})\n",
    "Cd.to_csv('CoronaData.csv')\n",
    "Cd"
   ]
  },
  {
   "cell_type": "code",
   "execution_count": null,
   "metadata": {},
   "outputs": [],
   "source": []
  },
  {
   "cell_type": "code",
   "execution_count": null,
   "metadata": {},
   "outputs": [],
   "source": []
  }
 ],
 "metadata": {
  "kernelspec": {
   "display_name": "Python 3",
   "language": "python",
   "name": "python3"
  },
  "language_info": {
   "codemirror_mode": {
    "name": "ipython",
    "version": 3
   },
   "file_extension": ".py",
   "mimetype": "text/x-python",
   "name": "python",
   "nbconvert_exporter": "python",
   "pygments_lexer": "ipython3",
   "version": "3.7.4"
  }
 },
 "nbformat": 4,
 "nbformat_minor": 2
}
